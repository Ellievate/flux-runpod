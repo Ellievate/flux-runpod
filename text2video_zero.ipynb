{
 "cells": [
  {
   "cell_type": "code",
   "execution_count": null,
   "id": "ea4ae390-2dd4-400a-9d14-662bb27d314d",
   "metadata": {
    "tags": []
   },
   "outputs": [],
   "source": [
    "%cd /content\n",
    "!apt update && apt install -y libgl1 git-lfs\n",
    "!git lfs install\n",
    "!pip install imageio==2.25.1 opencv-python==4.7.0.72 scipy==1.10.1 scikit-image==0.19.3 basicsr==1.4.2\n",
    "!pip install -q gradio==3.23.0 decord==0.6.0 diffusers==0.14.0 accelerate==0.17.0 safetensors==0.2.7 einops==0.6.0 transformers==4.26.0\n",
    "!pip install -q xformers==0.0.16 triton==2.0.0\n",
    "!git clone -b pro https://gitlab.com/camenduru/text2-video-zero\n",
    "\n",
    "\n",
    "model = \"plasmo/woolitize-768sd1-5\"\n",
    "model = model.replace('/', '\\/')\n",
    "!sed -i -e 's/runwayml\\/stable-diffusion-v1-5/{model}/g' /content/text2-video-zero/model.py \n",
    "\n",
    "\n",
    "%cd /content/text2-video-zero\n",
    "!python app.py"
   ]
  }
 ],
 "metadata": {
  "kernelspec": {
   "display_name": "Python 3 (ipykernel)",
   "language": "python",
   "name": "python3"
  },
  "language_info": {
   "codemirror_mode": {
    "name": "ipython",
    "version": 3
   },
   "file_extension": ".py",
   "mimetype": "text/x-python",
   "name": "python",
   "nbconvert_exporter": "python",
   "pygments_lexer": "ipython3",
   "version": "3.10.10"
  }
 },
 "nbformat": 4,
 "nbformat_minor": 5
}
